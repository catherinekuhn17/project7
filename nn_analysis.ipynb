{
 "cells": [
  {
   "cell_type": "markdown",
   "id": "ef86ae0a",
   "metadata": {},
   "source": [
    "# Imports"
   ]
  },
  {
   "cell_type": "code",
   "execution_count": 1,
   "id": "e03db301",
   "metadata": {
    "ExecuteTime": {
     "end_time": "2022-03-11T07:05:15.231213Z",
     "start_time": "2022-03-11T07:05:14.191312Z"
    }
   },
   "outputs": [],
   "source": [
    "from nn import nn\n",
    "from nn import preprocess\n",
    "from nn import io\n",
    "import matplotlib.pyplot as plt\n",
    "from sklearn.datasets import load_digits\n",
    "from sklearn.model_selection import train_test_split\n",
    "import numpy as np"
   ]
  },
  {
   "cell_type": "markdown",
   "id": "74f8911c",
   "metadata": {},
   "source": [
    "# NN autoencoder on digits"
   ]
  },
  {
   "cell_type": "code",
   "execution_count": 3,
   "id": "84696193",
   "metadata": {
    "ExecuteTime": {
     "end_time": "2022-03-11T06:56:56.443114Z",
     "start_time": "2022-03-11T06:56:56.372022Z"
    }
   },
   "outputs": [],
   "source": [
    "# loading in digits data\n",
    "digits = load_digits()\n",
    "X = digits['data'] \n",
    "\n",
    "\n",
    "X_train, X_test = train_test_split(X, test_size=0.33, random_state=42)"
   ]
  },
  {
   "cell_type": "markdown",
   "id": "5f01c5e9",
   "metadata": {
    "ExecuteTime": {
     "end_time": "2022-03-11T00:26:47.803764Z",
     "start_time": "2022-03-11T00:26:47.796833Z"
    }
   },
   "source": [
    "I decided to use a learning rate of .0001. Going above that learning rate makes the test and validation loss a lot noisier (and too high just makes weird plots). Additionally, making the training rate much lower leads to a higher loss ultimate loss function. For batch size, I found I needed a relatively high batch size to obtain a smooth end to the curve. I kept epochs high enough that we would see the full smoothing out of the curve. \n",
    "\n",
    "I chose relu for the activation function, since the A matrices are not confined between 0 and 1."
   ]
  },
  {
   "cell_type": "code",
   "execution_count": 16,
   "id": "b121fe6a",
   "metadata": {
    "ExecuteTime": {
     "end_time": "2022-03-11T06:58:46.847920Z",
     "start_time": "2022-03-11T06:58:41.846727Z"
    }
   },
   "outputs": [],
   "source": [
    "# building and fitting nueral network\n",
    "ae = nn.NeuralNetwork([{'input_dim': 64, 'output_dim': 16, 'activation': 'relu'}, \n",
    "                       {'input_dim': 16, 'output_dim': 64, 'activation': 'relu'}], \n",
    "                       .0001, \n",
    "                       72, \n",
    "                       500, \n",
    "                       2000, \n",
    "                       'mse')\n",
    "\n",
    "test_loss, val_loss = ae.fit(X_train.T, X_train.T, X_test.T,  X_test.T) "
   ]
  },
  {
   "cell_type": "code",
   "execution_count": 17,
   "id": "1540723c",
   "metadata": {
    "ExecuteTime": {
     "end_time": "2022-03-11T06:58:47.007993Z",
     "start_time": "2022-03-11T06:58:46.850714Z"
    }
   },
   "outputs": [
    {
     "data": {
      "image/png": "[encoded data removed]",
      "text/plain": [
       "<Figure size 432x288 with 1 Axes>"
      ]
     },
     "metadata": {
      "needs_background": "light"
     },
     "output_type": "display_data"
    }
   ],
   "source": [
    "plt.plot(test_loss)\n",
    "plt.plot(val_loss)\n",
    "plt.title('Loss function over epochs')\n",
    "plt.legend(['test', 'validation'])\n",
    "plt.xlabel('epochs')\n",
    "plt.ylabel('training score')\n",
    "plt.show()"
   ]
  },
  {
   "cell_type": "markdown",
   "id": "c389af32",
   "metadata": {},
   "source": [
    "Here I am showing what the autoencoder can do, in recreating the images out the input numbers."
   ]
  },
  {
   "cell_type": "code",
   "execution_count": 19,
   "id": "39bbc95a",
   "metadata": {
    "ExecuteTime": {
     "end_time": "2022-03-11T06:59:28.066241Z",
     "start_time": "2022-03-11T06:59:27.764270Z"
    }
   },
   "outputs": [
    {
     "data": {
      "text/plain": [
       "<matplotlib.image.AxesImage at 0x7fd25964dbb0>"
      ]
     },
     "execution_count": 19,
     "metadata": {},
     "output_type": "execute_result"
    },
    {
     "data": {
      "text/plain": [
       "<Figure size 432x288 with 0 Axes>"
      ]
     },
     "metadata": {},
     "output_type": "display_data"
    },
    {
     "data": {
      "image/png": "[encoded data removed]",
      "text/plain": [
       "<Figure size 288x288 with 1 Axes>"
      ]
     },
     "metadata": {
      "needs_background": "light"
     },
     "output_type": "display_data"
    },
    {
     "data": {
      "image/png": "[encoded data removed]",
      "text/plain": [
       "<Figure size 288x288 with 1 Axes>"
      ]
     },
     "metadata": {
      "needs_background": "light"
     },
     "output_type": "display_data"
    }
   ],
   "source": [
    "out = ae.predict(X_train)\n",
    "out_img_train = out.flatten().reshape(1203, 8, 8)\n",
    "in_img = X_train.flatten().reshape(1203, 8, 8)\n",
    "\n",
    "\n",
    "plt.gray()\n",
    "plt.matshow(in_img[0])\n",
    "plt.matshow(out_img_train[0])\n",
    "\n"
   ]
  },
  {
   "cell_type": "code",
   "execution_count": 20,
   "id": "4bcf0cd3",
   "metadata": {
    "ExecuteTime": {
     "end_time": "2022-03-11T06:59:31.190417Z",
     "start_time": "2022-03-11T06:59:31.180583Z"
    }
   },
   "outputs": [
    {
     "name": "stdout",
     "output_type": "stream",
     "text": [
      "average train error: 1.2414675397330595\n",
      "average test error: 1.2559022229178882\n",
      "average test all: 1.246238937513687\n"
     ]
    }
   ],
   "source": [
    "# average error\n",
    "avg_error_train = np.mean(abs(X_train-ae.predict(X_train)))\n",
    "avg_error_test = np.mean(abs(X_test-ae.predict(X_test)))\n",
    "avg_error_all = (avg_error_test*len(X_test)+avg_error_train*len(X_train))/(len(X_test)+len(X_train))\n",
    "\n",
    "print(f'average train error: {avg_error_train}')\n",
    "print(f'average test error: {avg_error_test}')\n",
    "print(f'average test all: {avg_error_all}')"
   ]
  },
  {
   "cell_type": "markdown",
   "id": "2cfee20e",
   "metadata": {},
   "source": [
    "# Transcription Factor Classifier"
   ]
  },
  {
   "cell_type": "markdown",
   "id": "c05f4e68",
   "metadata": {},
   "source": [
    "I decided to use a learning rate of 3, as this lr allows the nn to obtain a low loss function for both training and validation quickly, and not overfit. Going much above that learning rate makes the test and validation reach 0 much later (and going much lower makes lowering the loss go very slow).\n",
    "Changing the batch size did not have a significant change on the loss values, so I put it at 10, as this is less than the total number of input sequences. \n",
    "\n",
    "I chose sigmoid for the activation function, since the A matrices must be confined between 0 and 1 (as they are  being compared against y values that are 0 and 1).\n",
    "\n",
    "I chose binary cross entropy for the loss function, since it is built to compare probabilities against a binary outpute of 0 or 1, which is the exact structure of the problem we have here"
   ]
  },
  {
   "cell_type": "code",
   "execution_count": 2,
   "id": "dcc6a3b1",
   "metadata": {
    "ExecuteTime": {
     "end_time": "2022-03-11T07:05:19.162651Z",
     "start_time": "2022-03-11T07:05:19.125013Z"
    }
   },
   "outputs": [],
   "source": [
    "pos_seq_fn = './data/rap1-lieb-positives.txt'\n",
    "neg_seq_fn = './data/yeast-upstream-1k-negative.fa'\n",
    "pos_seq = io.read_text_file(pos_seq_fn)\n",
    "neg_seq = io.read_fasta_file(neg_seq_fn)\n",
    "\n",
    "all_seq = pos_seq+neg_seq\n",
    "labels = np.append(np.ones(len(pos_seq)),np.zeros(len(neg_seq)))"
   ]
  },
  {
   "cell_type": "code",
   "execution_count": 3,
   "id": "c52281ea",
   "metadata": {
    "ExecuteTime": {
     "end_time": "2022-03-11T07:05:19.526709Z",
     "start_time": "2022-03-11T07:05:19.520825Z"
    }
   },
   "outputs": [],
   "source": [
    "pos_neg_seqs, pos_neg_labs = preprocess.sample_seqs(all_seq, \n",
    "                                         labels, \n",
    "                                         num_out_seqs='equal')\n",
    "encoded_seqs = preprocess.one_hot_encode_seqs(pos_neg_seqs)"
   ]
  },
  {
   "cell_type": "code",
   "execution_count": 4,
   "id": "e3158940",
   "metadata": {
    "ExecuteTime": {
     "end_time": "2022-03-11T07:05:19.860888Z",
     "start_time": "2022-03-11T07:05:19.856801Z"
    }
   },
   "outputs": [],
   "source": [
    "X_train_seq, X_test_seq, y_train_seq, y_test_seq, = train_test_split(encoded_seqs,\n",
    "                                                                     pos_neg_labs, \n",
    "                                                                     test_size=0.33, \n",
    "                                                                     random_state=42)"
   ]
  },
  {
   "cell_type": "code",
   "execution_count": 5,
   "id": "816938d6",
   "metadata": {
    "ExecuteTime": {
     "end_time": "2022-03-11T07:05:24.075283Z",
     "start_time": "2022-03-11T07:05:20.263328Z"
    }
   },
   "outputs": [],
   "source": [
    "trans_nn = nn.NeuralNetwork([{'input_dim': 68, 'output_dim': 5, 'activation': 'sigmoid'}, \n",
    "                             {'input_dim': 5, 'output_dim': 1, 'activation': 'sigmoid'}], \n",
    "                             lr=3, \n",
    "                             seed = 10,\n",
    "                             batch_size = 10,\n",
    "                             epochs = 1000, \n",
    "                             loss_function='bce')\n",
    "\n",
    "test_loss, val_loss= trans_nn.fit(np.array(X_train_seq).T, \n",
    "                                    np.array(y_train_seq).reshape(1, -1) ,\n",
    "                                    np.array(X_test_seq).T,  \n",
    "                                    np.array(y_test_seq).reshape(1, -1)) \n",
    "\n",
    "\n"
   ]
  },
  {
   "cell_type": "code",
   "execution_count": 6,
   "id": "62ab9afc",
   "metadata": {
    "ExecuteTime": {
     "end_time": "2022-03-11T07:05:24.237947Z",
     "start_time": "2022-03-11T07:05:24.077328Z"
    }
   },
   "outputs": [
    {
     "data": {
      "image/png": "[encoded data removed]",
      "text/plain": [
       "<Figure size 432x288 with 1 Axes>"
      ]
     },
     "metadata": {
      "needs_background": "light"
     },
     "output_type": "display_data"
    }
   ],
   "source": [
    "plt.plot(test_loss)\n",
    "plt.plot(val_loss)\n",
    "plt.title('Loss function over epochs')\n",
    "plt.legend(['test', 'validation'])\n",
    "plt.xlabel('epochs')\n",
    "plt.ylabel('training score')\n",
    "plt.show()"
   ]
  },
  {
   "cell_type": "code",
   "execution_count": 7,
   "id": "b9591f4f",
   "metadata": {
    "ExecuteTime": {
     "end_time": "2022-03-11T07:05:30.625025Z",
     "start_time": "2022-03-11T07:05:30.615777Z"
    }
   },
   "outputs": [
    {
     "name": "stdout",
     "output_type": "stream",
     "text": [
      "accuracy on training data: 100.0%\n",
      "accuracy on testing data: 98.9010989010989%\n"
     ]
    }
   ],
   "source": [
    "prediction_train = trans_nn.predict(np.array(X_train_seq)).flatten()\n",
    "predictions_bin_train = 1*(prediction_train>.5)\n",
    "prediction_test = trans_nn.predict(np.array(X_test_seq)).flatten()\n",
    "predictions_bin_test = 1*(prediction_test>.5)\n",
    "accuracy_train = 100 - 100*sum(abs(predictions_bin_train-y_train_seq))/len(y_train_seq)\n",
    "accuracy_test = 100 - 100*sum(abs(predictions_bin_test-y_test_seq))/len(y_test_seq)\n",
    "\n",
    "print(f'accuracy on training data: {accuracy_train}%')\n",
    "print(f'accuracy on testing data: {accuracy_test}%')"
   ]
  }
 ],
 "metadata": {
  "kernelspec": {
   "display_name": "Python 3",
   "language": "python",
   "name": "python3"
  },
  "language_info": {
   "codemirror_mode": {
    "name": "ipython",
    "version": 3
   },
   "file_extension": ".py",
   "mimetype": "text/x-python",
   "name": "python",
   "nbconvert_exporter": "python",
   "pygments_lexer": "ipython3",
   "version": "3.8.8"
  },
  "toc": {
   "base_numbering": 1,
   "nav_menu": {},
   "number_sections": true,
   "sideBar": true,
   "skip_h1_title": false,
   "title_cell": "Table of Contents",
   "title_sidebar": "Contents",
   "toc_cell": false,
   "toc_position": {},
   "toc_section_display": true,
   "toc_window_display": false
  }
 },
 "nbformat": 4,
 "nbformat_minor": 5
}
